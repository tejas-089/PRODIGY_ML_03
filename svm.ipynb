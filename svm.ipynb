{
 "cells": [
  {
   "cell_type": "code",
   "execution_count": 9,
   "id": "df02731d-8858-4730-b186-16443d89e0f6",
   "metadata": {},
   "outputs": [],
   "source": [
    "import os\n",
    "import cv2\n",
    "import numpy as np\n",
    "import pandas as pd\n",
    "from skimage.feature import hog\n",
    "from sklearn.model_selection import train_test_split\n",
    "from sklearn.svm import SVC\n",
    "from sklearn.metrics import classification_report, accuracy_score\n",
    "import random\n",
    "from tqdm import tqdm\n",
    "\n",
    "# --- Configuration ---\n",
    "# ‼️ CORRECTED TEST PATH\n",
    "TRAIN_DATA_PATH = r\"D:\\dogs-vs-cats\\train\\train\"\n",
    "TEST_DATA_PATH = r\"D:\\dogs-vs-cats\\test1\\test1\" # <-- LIKELY FIX IS HERE\n",
    "\n",
    "# --- Model Parameters ---\n",
    "IMAGE_DIMENSIONS = (64, 64)\n",
    "SAMPLE_SIZE = 4000"
   ]
  },
  {
   "cell_type": "code",
   "execution_count": 10,
   "id": "b5d2bee0-ccd1-4056-8d4c-515eb2a6a291",
   "metadata": {},
   "outputs": [],
   "source": [
    "def load_and_preprocess_training_data(data_dir, image_dims, sample_size):\n",
    "    \"\"\"\n",
    "    Loads a random sample of training images, resizes them, converts to grayscale, \n",
    "    and extracts HOG features.\n",
    "    \"\"\"\n",
    "    features = []\n",
    "    labels = []\n",
    "    \n",
    "    all_filenames = [f for f in os.listdir(data_dir) if f.endswith('.jpg')]\n",
    "    sample_size = min(len(all_filenames), sample_size)\n",
    "    sampled_filenames = random.sample(all_filenames, sample_size)\n",
    "\n",
    "    print(f\"Loading and processing {len(sampled_filenames)} training images...\")\n",
    "\n",
    "    for filename in tqdm(sampled_filenames):\n",
    "        img_path = os.path.join(data_dir, filename)\n",
    "        img = cv2.imread(img_path, cv2.IMREAD_GRAYSCALE)\n",
    "        \n",
    "        if img is not None:\n",
    "            img_resized = cv2.resize(img, image_dims)\n",
    "            hog_features = hog(img_resized, pixels_per_cell=(8, 8),\n",
    "                               cells_per_block=(2, 2), visualize=False)\n",
    "            \n",
    "            features.append(hog_features)\n",
    "            label = 0 if 'cat' in filename else 1\n",
    "            labels.append(label)\n",
    "\n",
    "    print(\"\\nTraining data processing complete.\")\n",
    "    return np.array(features), np.array(labels)"
   ]
  },
  {
   "cell_type": "code",
   "execution_count": 11,
   "id": "a72e84f8-0480-4225-8e57-489901ebbed8",
   "metadata": {},
   "outputs": [
    {
     "name": "stdout",
     "output_type": "stream",
     "text": [
      "Loading and processing 4000 training images...\n"
     ]
    },
    {
     "name": "stderr",
     "output_type": "stream",
     "text": [
      "100%|██████████████████████████████████████████████████████████████████████████████| 4000/4000 [01:03<00:00, 63.15it/s]\n"
     ]
    },
    {
     "name": "stdout",
     "output_type": "stream",
     "text": [
      "\n",
      "Training data processing complete.\n",
      "\n",
      "✅ Feature matrix shape: (4000, 1764)\n",
      "✅ Labels vector shape: (4000,)\n"
     ]
    }
   ],
   "source": [
    "# Check if the path exists before trying to load data\n",
    "if not os.path.isdir(TRAIN_DATA_PATH):\n",
    "    print(f\"❌ Error: The directory '{TRAIN_DATA_PATH}' does not exist.\")\n",
    "    print(\"Please check the path in Cell 1.\")\n",
    "else:\n",
    "    # Load data and extract features\n",
    "    X, y = load_and_preprocess_training_data(TRAIN_DATA_PATH, IMAGE_DIMENSIONS, SAMPLE_SIZE)\n",
    "    print(f\"\\n✅ Feature matrix shape: {X.shape}\")\n",
    "    print(f\"✅ Labels vector shape: {y.shape}\")"
   ]
  },
  {
   "cell_type": "code",
   "execution_count": 12,
   "id": "d2af973d-e23b-435c-a5b6-2db6d8cb5667",
   "metadata": {},
   "outputs": [
    {
     "name": "stdout",
     "output_type": "stream",
     "text": [
      "Data successfully split: 3200 training samples, 800 validation samples.\n",
      "\n",
      "⏳ Training the SVM classifier... (This may take several minutes)\n",
      "[LibSVM]\n",
      "✅ Training complete.\n",
      "\n",
      "📊 Evaluating model performance...\n",
      "\n",
      "Accuracy on Validation Set: 67.75%\n",
      "\n",
      "Classification Report:\n",
      "              precision    recall  f1-score   support\n",
      "\n",
      "         Cat       0.69      0.65      0.67       406\n",
      "         Dog       0.66      0.71      0.68       394\n",
      "\n",
      "    accuracy                           0.68       800\n",
      "   macro avg       0.68      0.68      0.68       800\n",
      "weighted avg       0.68      0.68      0.68       800\n",
      "\n"
     ]
    }
   ],
   "source": [
    "# Check if the data is valid before proceeding\n",
    "if 'X' in locals() and X.shape[0] > 0:\n",
    "    # 1. Split data for training and validation\n",
    "    X_train, X_val, y_train, y_val = train_test_split(\n",
    "        X, y, test_size=0.2, random_state=42, stratify=y\n",
    "    )\n",
    "    print(f\"Data successfully split: {len(X_train)} training samples, {len(X_val)} validation samples.\")\n",
    "\n",
    "    # 2. Train the SVM Model\n",
    "    print(\"\\n⏳ Training the SVM classifier... (This may take several minutes)\")\n",
    "    svm_model = SVC(kernel='linear', C=1.0, random_state=42, verbose=True)\n",
    "    svm_model.fit(X_train, y_train)\n",
    "    print(\"\\n✅ Training complete.\")\n",
    "    \n",
    "    # 3. Evaluate the model's performance\n",
    "    print(\"\\n📊 Evaluating model performance...\")\n",
    "    y_pred = svm_model.predict(X_val)\n",
    "    accuracy = accuracy_score(y_val, y_pred)\n",
    "    print(f\"\\nAccuracy on Validation Set: {accuracy * 100:.2f}%\")\n",
    "    print(\"\\nClassification Report:\")\n",
    "    print(classification_report(y_val, y_pred, target_names=['Cat', 'Dog']))\n",
    "\n",
    "else:\n",
    "    print(\"❌ ERROR: Data variable 'X' is empty or not defined.\")"
   ]
  },
  {
   "cell_type": "code",
   "execution_count": 14,
   "id": "5a62d908-31e9-483d-b54d-3ce5fbe48973",
   "metadata": {},
   "outputs": [],
   "source": [
    "def predict_on_test_data(model, data_dir, image_dims):\n",
    "    \"\"\"\n",
    "    Loads test images, preprocesses them, and uses the trained model to make predictions.\n",
    "    \"\"\"\n",
    "    image_ids = []\n",
    "    predictions = []\n",
    "    \n",
    "    test_filenames = [f for f in os.listdir(data_dir) if f.endswith('.jpg')]\n",
    "    test_filenames.sort(key=lambda x: int(x.split('.')[0])) # Sort by image number\n",
    "    \n",
    "    print(f\"\\nStarting predictions on {len(test_filenames)} test images...\")\n",
    "    \n",
    "    for filename in tqdm(test_filenames):\n",
    "        image_id = filename.split('.')[0]\n",
    "        img_path = os.path.join(data_dir, filename)\n",
    "        img = cv2.imread(img_path, cv2.IMREAD_GRAYSCALE)\n",
    "        \n",
    "        if img is not None:\n",
    "            img_resized = cv2.resize(img, image_dims)\n",
    "            hog_features = hog(img_resized, pixels_per_cell=(8, 8),\n",
    "                               cells_per_block=(2, 2), visualize=False)\n",
    "            \n",
    "            prediction = model.predict(hog_features.reshape(1, -1))[0]\n",
    "            \n",
    "            image_ids.append(image_id)\n",
    "            predictions.append(prediction)\n",
    "            \n",
    "    print(\"\\nTest prediction complete.\")\n",
    "    return image_ids, predictions"
   ]
  },
  {
   "cell_type": "code",
   "execution_count": 15,
   "id": "cc7d1622-33d4-4561-83b4-963ae803e217",
   "metadata": {},
   "outputs": [
    {
     "name": "stdout",
     "output_type": "stream",
     "text": [
      "\n",
      "Starting predictions on 12500 test images...\n"
     ]
    },
    {
     "name": "stderr",
     "output_type": "stream",
     "text": [
      "100%|████████████████████████████████████████████████████████████████████████████| 12500/12500 [03:28<00:00, 59.81it/s]"
     ]
    },
    {
     "name": "stdout",
     "output_type": "stream",
     "text": [
      "\n",
      "Test prediction complete.\n",
      "\n",
      "✅ Submission file 'submission.csv' has been created successfully!\n",
      "You can now upload this file to the Kaggle competition.\n",
      "\n",
      "Submission file preview:\n",
      "   id  label\n",
      "0   1      0\n",
      "1   2      0\n",
      "2   3      0\n",
      "3   4      0\n",
      "4   5      1\n"
     ]
    },
    {
     "name": "stderr",
     "output_type": "stream",
     "text": [
      "\n"
     ]
    }
   ],
   "source": [
    "# Check if the model has been trained and the test path is valid\n",
    "if 'svm_model' in locals() and os.path.isdir(TEST_DATA_PATH):\n",
    "    # Run the prediction process\n",
    "    ids, labels = predict_on_test_data(svm_model, TEST_DATA_PATH, IMAGE_DIMENSIONS)\n",
    "\n",
    "    # Create a pandas DataFrame for the submission file\n",
    "    submission_df = pd.DataFrame({'id': ids, 'label': labels})\n",
    "    submission_df['id'] = pd.to_numeric(submission_df['id'])\n",
    "    submission_df = submission_df.sort_values(by='id')\n",
    "\n",
    "    # Save the DataFrame to a CSV file\n",
    "    submission_df.to_csv('submission.csv', index=False)\n",
    "\n",
    "    print(\"\\n✅ Submission file 'submission.csv' has been created successfully!\")\n",
    "    print(\"You can now upload this file to the Kaggle competition.\")\n",
    "    \n",
    "    # Display the first few rows of the submission file\n",
    "    print(\"\\nSubmission file preview:\")\n",
    "    print(submission_df.head())\n",
    "    \n",
    "elif not os.path.isdir(TEST_DATA_PATH):\n",
    "     print(f\"❌ Error: The test data directory '{TEST_DATA_PATH}' does not exist.\")\n",
    "else:\n",
    "    print(\"❌ Error: 'svm_model' not found. Please successfully run the training cell first.\")"
   ]
  },
  {
   "cell_type": "code",
   "execution_count": 17,
   "id": "6e8691b4-80da-4a13-a72b-24984c852995",
   "metadata": {},
   "outputs": [
    {
     "name": "stdout",
     "output_type": "stream",
     "text": [
      "✅ Submission file 'submission.csv' has been created successfully!\n",
      "\n",
      "File preview:\n",
      "   id  label\n",
      "0   1      0\n",
      "1   2      0\n",
      "2   3      0\n",
      "3   4      0\n",
      "4   5      1\n"
     ]
    }
   ],
   "source": [
    "import pandas as pd\n",
    "\n",
    "# This code assumes the variables 'ids' and 'labels' already exist from the previous step\n",
    "\n",
    "# Check if the prediction variables exist before creating the file\n",
    "if 'ids' in locals() and 'labels' in locals():\n",
    "    # 1. Create a pandas DataFrame from your 'ids' and 'labels'\n",
    "    submission_df = pd.DataFrame({\n",
    "        'id': ids,\n",
    "        'label': labels\n",
    "    })\n",
    "\n",
    "    # 2. Convert 'id' column to numbers to ensure it sorts correctly\n",
    "    submission_df['id'] = pd.to_numeric(submission_df['id'])\n",
    "    submission_df = submission_df.sort_values(by='id')\n",
    "\n",
    "    # 3. Save the DataFrame to a CSV file named 'submission.csv'\n",
    "    # 'index=False' is crucial to match the Kaggle format\n",
    "    submission_df.to_csv('submission.csv', index=False)\n",
    "\n",
    "    print(\"✅ Submission file 'submission.csv' has been created successfully!\")\n",
    "    print(\"\\nFile preview:\")\n",
    "    print(submission_df.head())\n",
    "\n",
    "else:\n",
    "    print(\"❌ Error: Prediction data ('ids' and 'labels') not found.\")\n",
    "    print(\"Please make sure you have successfully run the prediction cell first.\")"
   ]
  },
  {
   "cell_type": "code",
   "execution_count": null,
   "id": "a8452652-073e-431e-8d9d-d97e1109bca4",
   "metadata": {},
   "outputs": [],
   "source": []
  }
 ],
 "metadata": {
  "kernelspec": {
   "display_name": "Python 3 (ipykernel)",
   "language": "python",
   "name": "python3"
  },
  "language_info": {
   "codemirror_mode": {
    "name": "ipython",
    "version": 3
   },
   "file_extension": ".py",
   "mimetype": "text/x-python",
   "name": "python",
   "nbconvert_exporter": "python",
   "pygments_lexer": "ipython3",
   "version": "3.13.6"
  }
 },
 "nbformat": 4,
 "nbformat_minor": 5
}
